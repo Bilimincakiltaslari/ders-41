{
 "cells": [
  {
   "cell_type": "code",
   "execution_count": null,
   "metadata": {},
   "outputs": [],
   "source": [
    "print (\"\\033[95m95\\033[0m\",end=\" \")\n",
    "print (\"\\033[94m94\\033[0m\",end=\" \")\n",
    "print (\"\\033[93m93\\033[0m\",end=\" \")\n",
    "print (\"\\033[92m92\\033[0m\",end=\" \")\n",
    "print (\"\\033[91m91\\033[0m\",end=\" \")\n",
    "print (\"\\033[1m1\\033[0m\",end=\" \")\n",
    "print (\"\\033[4m4\\033[0m\",end=\" \")\n",
    "print (\"\\033[100m100\\033[0m\",end=\" \")\n",
    "print (\"\\033[101m101\\033[0m\",end=\" \")\n",
    "print (\"\\033[102m102\\033[0m\",end=\" \")\n",
    "print (\"\\033[103m103\\033[0m\",end=\" \")\n",
    "print (\"\\033[104m104\\033[0m\",end=\" \")\n",
    "print (\"\\033[105m105\\033[0m\",end=\" \")\n",
    "print (\"\\033[106m106\\033[0m\",end=\" \")\n",
    "print (\"\\033[107m107\\033[0m\")"
   ]
  },
  {
   "cell_type": "code",
   "execution_count": null,
   "metadata": {},
   "outputs": [],
   "source": [
    "\n",
    "adı=input(\"Adınızı yazıp Enter tuşuna basınız \")\n",
    "print (\"\\033[95m\" + adı + \"\\033[0m\",end=\" \")\n",
    "print (\"\\033[94m\" + adı + \"\\033[0m\",end=\" \")\n",
    "print (\"\\033[93m\" + adı + \"\\033[0m\",end=\" \")\n",
    "print (\"\\033[92m\" + adı + \"\\033[0m\",end=\" \")\n",
    "print (\"\\033[91m\" + adı + \"\\033[0m\",end=\" \")\n",
    "print (\"\\033[1m\" + adı + \"\\033[0m\",end=\" \")\n",
    "print (\"\\033[4m\" + adı + \"\\033[0m\")\n",
    "print()\n",
    "print (\"\\033[100m\" + adı + \"\\033[0m\",end=\" \")\n",
    "print (\"\\033[101m\" + adı + \"\\033[0m\",end=\" \")\n",
    "print (\"\\033[102m\" + adı + \"\\033[0m\",end=\" \")\n",
    "print (\"\\033[103m\" + adı + \"\\033[0m\",end=\" \")\n",
    "print (\"\\033[104m\" + adı + \"\\033[0m\",end=\" \")\n",
    "print (\"\\033[105m\" + adı + \"\\033[0m\",end=\" \")\n",
    "print (\"\\033[106m\" + adı + \"\\033[0m\",end=\" \")\n",
    "print (\"\\033[107m\" + adı + \"\\033[0m\")\n"
   ]
  },
  {
   "cell_type": "code",
   "execution_count": null,
   "metadata": {},
   "outputs": [],
   "source": [
    "metin=\"DEMET ve MEHMET\"\n",
    "a=0\n",
    "for i in metin:\n",
    "    a += 1\n",
    "    if a<6:\n",
    "        print(\"\\033[102m\" + i + \"\\033[0m\" ,end=\"\")\n",
    "    elif a>5 and a<10:\n",
    "        print(i,end=\" \")\n",
    "    else:\n",
    "        print(\"\\033[103m\" + i + \"\\033[0m\" ,end=\"\")"
   ]
  },
  {
   "cell_type": "code",
   "execution_count": null,
   "metadata": {},
   "outputs": [],
   "source": [
    "import colorama\n",
    "from colorama import Fore, Back, Style\n",
    "\n",
    "print(Fore.RED)\n",
    "print(\"Bu kırmızı bir yazıdır.\")"
   ]
  },
  {
   "cell_type": "code",
   "execution_count": null,
   "metadata": {},
   "outputs": [],
   "source": [
    "print(Back.GREEN)\n",
    "print(\"Bu yeşil arka planlı bir yazıdır.\")"
   ]
  },
  {
   "cell_type": "code",
   "execution_count": null,
   "metadata": {},
   "outputs": [],
   "source": [
    "print(Fore.WHITE + Back.BLACK)\n",
    "print(\"Bu SİYAH BEYAZ bir yazıdır.\")"
   ]
  },
  {
   "cell_type": "code",
   "execution_count": null,
   "metadata": {},
   "outputs": [],
   "source": [
    "print(\"Aytek\")"
   ]
  },
  {
   "cell_type": "code",
   "execution_count": null,
   "metadata": {},
   "outputs": [],
   "source": [
    "print(Fore.WHITE + Back.BLACK)\n",
    "print(\"Aytek\")\n",
    "print(\"Uğur\")\n",
    "print(\"Şen\")"
   ]
  },
  {
   "cell_type": "code",
   "execution_count": null,
   "metadata": {},
   "outputs": [],
   "source": [
    "print(\"Aytek\")"
   ]
  },
  {
   "cell_type": "code",
   "execution_count": null,
   "metadata": {},
   "outputs": [],
   "source": [
    "print(Fore.RED)\n",
    "print(\"Deneme yazısı.\")\n",
    "print(\"Test yazısı.\")\n",
    "print(Style.RESET_ALL)\n",
    "print(\"Bu varsayılan bir yazıdır.\")"
   ]
  },
  {
   "cell_type": "code",
   "execution_count": null,
   "metadata": {},
   "outputs": [],
   "source": [
    "print(Fore.RED)\n",
    "print(\"Deneme yazısı.\")\n",
    "print(\"Test yazısı.\")\n",
    "colorama.init(autoreset=True)\n",
    "print(\"Bu varsayılan bir yazıdır.\")"
   ]
  },
  {
   "cell_type": "code",
   "execution_count": null,
   "metadata": {},
   "outputs": [],
   "source": [
    "import colorama\n",
    "from colorama import Fore, Back, Style\n",
    "print(Fore.RED + Back.YELLOW + \" Bu Sarı, Kırmızı bir yazıdır.\")\n",
    "print(Fore.BLACK + Back.RESET + \"Varsayılan yazı örneği.\")"
   ]
  },
  {
   "cell_type": "code",
   "execution_count": null,
   "metadata": {},
   "outputs": [],
   "source": [
    "\n",
    "from time import sleep\n",
    "import colorama\n",
    "from colorama import Fore, Back, Style\n",
    "\n",
    "colorama.init(autoreset=True)\n",
    "\n",
    "def anaMenu():\n",
    "    \n",
    "    print(Fore.RED + \"---------------   Proje-1'e Hoşgeldiniz...   ---------------\")\n",
    "    print(\"Şirketinizde bulunan personellerin\")\n",
    "    print(\" kaydını tutan bir program.\\n\")\n",
    "    print(Back.WHITE + Fore.BLACK + \"İşlem Seçenekleri;\")\n",
    "    print(\"1. Yeni Personel\")\n",
    "    print(\"2. Personel Bilgisi\")\n",
    "    print(\"3. Personel Sil\")\n",
    "    print(\"4. Programı Sonlandır.\")\n",
    "\n",
    "while (True):\n",
    "    anaMenu()\n",
    "    veri = input(Fore.CYAN + \"Lütfen yapmak istediğiniz işlemi seçin: \")\n",
    "    if(veri == '4'):\n",
    "        print(Fore.RED + \"Program başarılı bir şekilde sonlandırıldı.\")\n",
    "        break\n",
    "    else:\n",
    "        print(Fore.YELLOW + \"Bu seçenek henüz hazır değil.\")\n",
    "        print(Fore.YELLOW + \"Lütfen daha sonra deneyiniz.\")\n",
    "        sleep(3)"
   ]
  },
  {
   "cell_type": "code",
   "execution_count": null,
   "metadata": {},
   "outputs": [],
   "source": []
  }
 ],
 "metadata": {
  "kernelspec": {
   "display_name": "Python 3",
   "language": "python",
   "name": "python3"
  },
  "language_info": {
   "codemirror_mode": {
    "name": "ipython",
    "version": 3
   },
   "file_extension": ".py",
   "mimetype": "text/x-python",
   "name": "python",
   "nbconvert_exporter": "python",
   "pygments_lexer": "ipython3",
   "version": "3.7.3"
  }
 },
 "nbformat": 4,
 "nbformat_minor": 2
}
